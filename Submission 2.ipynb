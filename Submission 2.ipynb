{
  "nbformat": 4,
  "nbformat_minor": 0,
  "metadata": {
    "colab": {
      "name": "Untitled67.ipynb",
      "provenance": []
    },
    "kernelspec": {
      "name": "python3",
      "display_name": "Python 3"
    }
  },
  "cells": [
    {
      "cell_type": "code",
      "metadata": {
        "id": "-rJ9agvPfj9e",
        "colab_type": "code",
        "colab": {}
      },
      "source": [
        "#import librari pandas_datareader untuk data eksternal dari web\n",
        "import pandas_datareader as web\n",
        " \n",
        "#import modul datetime merupakan internal datetime\n",
        "import datetime\n",
        " \n",
        "#datetime.datetime adalah tipe data dalam modul datetime\n",
        "start = datetime.datetime(1980, 4, 1)\n",
        "end = datetime.datetime(2020, 9, 20)\n",
        " \n",
        "#metode DataReader musti spesifik namanya\n",
        "df = web.DataReader(\"hmc\", 'yahoo', start, end)\n",
        " \n",
        "#dataframe disimpan sebagai file csv \n",
        "df.to_csv('HMC.csv')"
      ],
      "execution_count": 218,
      "outputs": []
    },
    {
      "cell_type": "code",
      "metadata": {
        "id": "OEa8Mijjfool",
        "colab_type": "code",
        "colab": {
          "base_uri": "https://localhost:8080/",
          "height": 221
        },
        "outputId": "c677033b-e1aa-434a-c36c-69c565a2ef4f"
      },
      "source": [
        "#menampilkan informasi baris dan kolom, serta baris 5 pertama\n",
        "df=pd.read_csv(\"HMC.csv\")\n",
        "print('Number of rows and columns:', df.shape)\n",
        "df.head()"
      ],
      "execution_count": 219,
      "outputs": [
        {
          "output_type": "stream",
          "text": [
            "Number of rows and columns: (10205, 7)\n"
          ],
          "name": "stdout"
        },
        {
          "output_type": "execute_result",
          "data": {
            "text/html": [
              "<div>\n",
              "<style scoped>\n",
              "    .dataframe tbody tr th:only-of-type {\n",
              "        vertical-align: middle;\n",
              "    }\n",
              "\n",
              "    .dataframe tbody tr th {\n",
              "        vertical-align: top;\n",
              "    }\n",
              "\n",
              "    .dataframe thead th {\n",
              "        text-align: right;\n",
              "    }\n",
              "</style>\n",
              "<table border=\"1\" class=\"dataframe\">\n",
              "  <thead>\n",
              "    <tr style=\"text-align: right;\">\n",
              "      <th></th>\n",
              "      <th>Date</th>\n",
              "      <th>High</th>\n",
              "      <th>Low</th>\n",
              "      <th>Open</th>\n",
              "      <th>Close</th>\n",
              "      <th>Volume</th>\n",
              "      <th>Adj Close</th>\n",
              "    </tr>\n",
              "  </thead>\n",
              "  <tbody>\n",
              "    <tr>\n",
              "      <th>0</th>\n",
              "      <td>1980-04-01</td>\n",
              "      <td>0.909375</td>\n",
              "      <td>0.900000</td>\n",
              "      <td>0.909375</td>\n",
              "      <td>0.900000</td>\n",
              "      <td>6000.0</td>\n",
              "      <td>0.330650</td>\n",
              "    </tr>\n",
              "    <tr>\n",
              "      <th>1</th>\n",
              "      <td>1980-04-02</td>\n",
              "      <td>0.887500</td>\n",
              "      <td>0.887500</td>\n",
              "      <td>0.887500</td>\n",
              "      <td>0.887500</td>\n",
              "      <td>2000.0</td>\n",
              "      <td>0.326058</td>\n",
              "    </tr>\n",
              "    <tr>\n",
              "      <th>2</th>\n",
              "      <td>1980-04-03</td>\n",
              "      <td>0.878125</td>\n",
              "      <td>0.878125</td>\n",
              "      <td>0.878125</td>\n",
              "      <td>0.878125</td>\n",
              "      <td>2000.0</td>\n",
              "      <td>0.322614</td>\n",
              "    </tr>\n",
              "    <tr>\n",
              "      <th>3</th>\n",
              "      <td>1980-04-07</td>\n",
              "      <td>0.909375</td>\n",
              "      <td>0.903125</td>\n",
              "      <td>0.903125</td>\n",
              "      <td>0.909375</td>\n",
              "      <td>8000.0</td>\n",
              "      <td>0.334094</td>\n",
              "    </tr>\n",
              "    <tr>\n",
              "      <th>4</th>\n",
              "      <td>1980-04-08</td>\n",
              "      <td>0.912500</td>\n",
              "      <td>0.909375</td>\n",
              "      <td>0.909375</td>\n",
              "      <td>0.912500</td>\n",
              "      <td>28000.0</td>\n",
              "      <td>0.335242</td>\n",
              "    </tr>\n",
              "  </tbody>\n",
              "</table>\n",
              "</div>"
            ],
            "text/plain": [
              "         Date      High       Low      Open     Close   Volume  Adj Close\n",
              "0  1980-04-01  0.909375  0.900000  0.909375  0.900000   6000.0   0.330650\n",
              "1  1980-04-02  0.887500  0.887500  0.887500  0.887500   2000.0   0.326058\n",
              "2  1980-04-03  0.878125  0.878125  0.878125  0.878125   2000.0   0.322614\n",
              "3  1980-04-07  0.909375  0.903125  0.903125  0.909375   8000.0   0.334094\n",
              "4  1980-04-08  0.912500  0.909375  0.909375  0.912500  28000.0   0.335242"
            ]
          },
          "metadata": {
            "tags": []
          },
          "execution_count": 219
        }
      ]
    },
    {
      "cell_type": "code",
      "metadata": {
        "id": "FcAzemMCf03M",
        "colab_type": "code",
        "colab": {
          "base_uri": "https://localhost:8080/",
          "height": 255
        },
        "outputId": "16d80a55-04d7-405b-8c2a-b7f8a0d83d82"
      },
      "source": [
        "df.info()"
      ],
      "execution_count": 220,
      "outputs": [
        {
          "output_type": "stream",
          "text": [
            "<class 'pandas.core.frame.DataFrame'>\n",
            "RangeIndex: 10205 entries, 0 to 10204\n",
            "Data columns (total 7 columns):\n",
            " #   Column     Non-Null Count  Dtype  \n",
            "---  ------     --------------  -----  \n",
            " 0   Date       10205 non-null  object \n",
            " 1   High       10205 non-null  float64\n",
            " 2   Low        10205 non-null  float64\n",
            " 3   Open       10205 non-null  float64\n",
            " 4   Close      10205 non-null  float64\n",
            " 5   Volume     10205 non-null  float64\n",
            " 6   Adj Close  10205 non-null  float64\n",
            "dtypes: float64(6), object(1)\n",
            "memory usage: 558.2+ KB\n"
          ],
          "name": "stdout"
        }
      ]
    },
    {
      "cell_type": "code",
      "metadata": {
        "id": "nZ6H1BzzgYg-",
        "colab_type": "code",
        "colab": {
          "base_uri": "https://localhost:8080/",
          "height": 153
        },
        "outputId": "144b37c4-a716-4b64-f45d-f02200a316e7"
      },
      "source": [
        "df.isnull().sum()"
      ],
      "execution_count": 221,
      "outputs": [
        {
          "output_type": "execute_result",
          "data": {
            "text/plain": [
              "Date         0\n",
              "High         0\n",
              "Low          0\n",
              "Open         0\n",
              "Close        0\n",
              "Volume       0\n",
              "Adj Close    0\n",
              "dtype: int64"
            ]
          },
          "metadata": {
            "tags": []
          },
          "execution_count": 221
        }
      ]
    },
    {
      "cell_type": "code",
      "metadata": {
        "id": "UYR8Nc3BggFy",
        "colab_type": "code",
        "colab": {
          "base_uri": "https://localhost:8080/",
          "height": 34
        },
        "outputId": "bf1a2f6c-8198-4a75-f4c0-4fcb702fe372"
      },
      "source": [
        "df.columns"
      ],
      "execution_count": 222,
      "outputs": [
        {
          "output_type": "execute_result",
          "data": {
            "text/plain": [
              "Index(['Date', 'High', 'Low', 'Open', 'Close', 'Volume', 'Adj Close'], dtype='object')"
            ]
          },
          "metadata": {
            "tags": []
          },
          "execution_count": 222
        }
      ]
    },
    {
      "cell_type": "code",
      "metadata": {
        "id": "wdBqW6cigwvQ",
        "colab_type": "code",
        "colab": {
          "base_uri": "https://localhost:8080/",
          "height": 204
        },
        "outputId": "d98a89bb-08d5-4972-9959-3061e8e7e046"
      },
      "source": [
        "df = df[['Adj Close']]\n",
        "df.tail()"
      ],
      "execution_count": 223,
      "outputs": [
        {
          "output_type": "execute_result",
          "data": {
            "text/html": [
              "<div>\n",
              "<style scoped>\n",
              "    .dataframe tbody tr th:only-of-type {\n",
              "        vertical-align: middle;\n",
              "    }\n",
              "\n",
              "    .dataframe tbody tr th {\n",
              "        vertical-align: top;\n",
              "    }\n",
              "\n",
              "    .dataframe thead th {\n",
              "        text-align: right;\n",
              "    }\n",
              "</style>\n",
              "<table border=\"1\" class=\"dataframe\">\n",
              "  <thead>\n",
              "    <tr style=\"text-align: right;\">\n",
              "      <th></th>\n",
              "      <th>Adj Close</th>\n",
              "    </tr>\n",
              "  </thead>\n",
              "  <tbody>\n",
              "    <tr>\n",
              "      <th>10200</th>\n",
              "      <td>25.340000</td>\n",
              "    </tr>\n",
              "    <tr>\n",
              "      <th>10201</th>\n",
              "      <td>25.540001</td>\n",
              "    </tr>\n",
              "    <tr>\n",
              "      <th>10202</th>\n",
              "      <td>24.969999</td>\n",
              "    </tr>\n",
              "    <tr>\n",
              "      <th>10203</th>\n",
              "      <td>24.930000</td>\n",
              "    </tr>\n",
              "    <tr>\n",
              "      <th>10204</th>\n",
              "      <td>24.719999</td>\n",
              "    </tr>\n",
              "  </tbody>\n",
              "</table>\n",
              "</div>"
            ],
            "text/plain": [
              "       Adj Close\n",
              "10200  25.340000\n",
              "10201  25.540001\n",
              "10202  24.969999\n",
              "10203  24.930000\n",
              "10204  24.719999"
            ]
          },
          "metadata": {
            "tags": []
          },
          "execution_count": 223
        }
      ]
    },
    {
      "cell_type": "code",
      "metadata": {
        "id": "kvCLSxD3hE2U",
        "colab_type": "code",
        "colab": {}
      },
      "source": [
        "# Normalisasi data\n",
        "from sklearn import preprocessing\n",
        "\n",
        "values = df.values.reshape(-1,1)\n",
        "values = values.astype('float32')\n",
        "scaler = preprocessing.MinMaxScaler(feature_range=(0, 1))\n",
        "scaled = scaler.fit_transform(values)"
      ],
      "execution_count": 224,
      "outputs": []
    },
    {
      "cell_type": "code",
      "metadata": {
        "id": "giWkXZeYhLBq",
        "colab_type": "code",
        "colab": {
          "base_uri": "https://localhost:8080/",
          "height": 136
        },
        "outputId": "277dae07-938f-4f50-c989-46b1a7c8d171"
      },
      "source": [
        "values"
      ],
      "execution_count": 225,
      "outputs": [
        {
          "output_type": "execute_result",
          "data": {
            "text/plain": [
              "array([[ 0.33064994],\n",
              "       [ 0.32605776],\n",
              "       [ 0.32261354],\n",
              "       ...,\n",
              "       [24.97      ],\n",
              "       [24.93      ],\n",
              "       [24.72      ]], dtype=float32)"
            ]
          },
          "metadata": {
            "tags": []
          },
          "execution_count": 225
        }
      ]
    },
    {
      "cell_type": "code",
      "metadata": {
        "id": "Ia35aJ1fhP3A",
        "colab_type": "code",
        "colab": {
          "base_uri": "https://localhost:8080/",
          "height": 136
        },
        "outputId": "fad1fc63-35f0-4bf4-93d3-2c85cb546dde"
      },
      "source": [
        "scaled"
      ],
      "execution_count": 226,
      "outputs": [
        {
          "output_type": "execute_result",
          "data": {
            "text/plain": [
              "array([[2.3256335e-04],\n",
              "       [9.9672005e-05],\n",
              "       [0.0000000e+00],\n",
              "       ...,\n",
              "       [7.1326500e-01],\n",
              "       [7.1210748e-01],\n",
              "       [7.0603031e-01]], dtype=float32)"
            ]
          },
          "metadata": {
            "tags": []
          },
          "execution_count": 226
        }
      ]
    },
    {
      "cell_type": "code",
      "metadata": {
        "id": "nY3cuE2RhUeK",
        "colab_type": "code",
        "colab": {
          "base_uri": "https://localhost:8080/",
          "height": 68
        },
        "outputId": "a75d1782-6d85-40e8-d63b-8417ac65e4f9"
      },
      "source": [
        "#membagi data Validation set sebesar 20% dari total dataset\n",
        "training_size = int(len(scaled) * 0.7)\n",
        "validasi_size = int(len(scaled) * 0.2)\n",
        "test_size = int(len(scaled) * 0.1)\n",
        "training, validasi, test = scaled[0:training_size,:], scaled[training_size:-(test_size),:], scaled[-(test_size):,:]\n",
        "print(f'training: {len(training)}')\n",
        "print(f'validation: {len(validasi)}')\n",
        "print(f'test: {len(test)}')"
      ],
      "execution_count": 227,
      "outputs": [
        {
          "output_type": "stream",
          "text": [
            "training: 7143\n",
            "validation: 2042\n",
            "test: 1020\n"
          ],
          "name": "stdout"
        }
      ]
    },
    {
      "cell_type": "code",
      "metadata": {
        "id": "NeDISuL1heMr",
        "colab_type": "code",
        "colab": {}
      },
      "source": [
        "from itertools import chain\n",
        "\n",
        "training = np.array(list(chain.from_iterable(training)))\n",
        "validasi = np.array(list(chain.from_iterable(validasi)))\n",
        "test = np.array(list(chain.from_iterable(test)))"
      ],
      "execution_count": 228,
      "outputs": []
    },
    {
      "cell_type": "code",
      "metadata": {
        "id": "w4zuZu8IhiCV",
        "colab_type": "code",
        "colab": {
          "base_uri": "https://localhost:8080/",
          "height": 51
        },
        "outputId": "aa18ebe9-ddb5-4969-8763-d72fc83556e5"
      },
      "source": [
        "training"
      ],
      "execution_count": 229,
      "outputs": [
        {
          "output_type": "execute_result",
          "data": {
            "text/plain": [
              "array([2.3256335e-04, 9.9672005e-05, 0.0000000e+00, ..., 6.7032564e-01,\n",
              "       6.6908097e-01, 6.9854105e-01], dtype=float32)"
            ]
          },
          "metadata": {
            "tags": []
          },
          "execution_count": 229
        }
      ]
    },
    {
      "cell_type": "code",
      "metadata": {
        "id": "dylC1x30hl4b",
        "colab_type": "code",
        "colab": {}
      },
      "source": [
        "#membagi data sequence menjadi sample\n",
        "def split_sequence(sequence, n_steps):\n",
        "\tX, Y = list(), list()\n",
        "\tfor i in range(len(sequence)):\n",
        "\t\tend_iX = i + n_steps\n",
        "\t\tif end_iX > len(sequence)-1:\n",
        "\t\t\tbreak\n",
        "\t\tseq_X, seq_Y = sequence[i:end_iX], sequence[end_iX]\n",
        "\t\tX.append(seq_X)\n",
        "\t\tY.append(seq_Y)\n",
        "\treturn np.array(X), np.array(Y)"
      ],
      "execution_count": 230,
      "outputs": []
    },
    {
      "cell_type": "code",
      "metadata": {
        "id": "-Zp03xAthrud",
        "colab_type": "code",
        "colab": {}
      },
      "source": [
        "n_steps = 12\n",
        "train_X, train_Y = split_sequence(train, n_steps)\n",
        "val_X, val_Y = split_sequence(val, n_steps)\n",
        "test_X, test_Y = split_sequence(test, n_steps)"
      ],
      "execution_count": 231,
      "outputs": []
    },
    {
      "cell_type": "code",
      "metadata": {
        "id": "7T5cI6cchu5J",
        "colab_type": "code",
        "colab": {
          "base_uri": "https://localhost:8080/",
          "height": 238
        },
        "outputId": "9b5986ff-b893-4a30-ce1d-ccb3fb2c802a"
      },
      "source": [
        "train_X"
      ],
      "execution_count": 232,
      "outputs": [
        {
          "output_type": "execute_result",
          "data": {
            "text/plain": [
              "array([[2.3256335e-04, 9.9672005e-05, 0.0000000e+00, ..., 7.6415855e-04,\n",
              "        7.6415855e-04, 6.9770776e-04],\n",
              "       [9.9672005e-05, 0.0000000e+00, 3.3223908e-04, ..., 7.6415855e-04,\n",
              "        6.9770776e-04, 8.3060935e-04],\n",
              "       [0.0000000e+00, 3.3223908e-04, 3.6546309e-04, ..., 6.9770776e-04,\n",
              "        8.3060935e-04, 8.3060935e-04],\n",
              "       ...,\n",
              "       [6.9646662e-01, 6.8132150e-01, 6.8713081e-01, ..., 6.6244221e-01,\n",
              "        6.7323017e-01, 6.7571986e-01],\n",
              "       [6.8132150e-01, 6.8713081e-01, 6.8526328e-01, ..., 6.7323017e-01,\n",
              "        6.7571986e-01, 6.7032564e-01],\n",
              "       [6.8713081e-01, 6.8526328e-01, 6.8360370e-01, ..., 6.7571986e-01,\n",
              "        6.7032564e-01, 6.6908097e-01]], dtype=float32)"
            ]
          },
          "metadata": {
            "tags": []
          },
          "execution_count": 232
        }
      ]
    },
    {
      "cell_type": "code",
      "metadata": {
        "id": "6utgK9v-hy3_",
        "colab_type": "code",
        "colab": {}
      },
      "source": [
        "n_features = 1\n",
        "train_X = train_X.reshape((train_X.shape[0], train_X.shape[1], n_features))\n",
        "val_X = val_X.reshape((val_X.shape[0], val_X.shape[1], n_features))\n",
        "test_X = test_X.reshape((test_X.shape[0], test_X.shape[1], n_features))"
      ],
      "execution_count": 233,
      "outputs": []
    },
    {
      "cell_type": "code",
      "metadata": {
        "id": "D7YbTfYvh3Ty",
        "colab_type": "code",
        "colab": {}
      },
      "source": [
        "#Membuat arsitektur LSTM\n",
        "import tensorflow as tf\n",
        "from keras.layers import LSTM\n",
        "#Lapisan pertama adalah lapisan LSTM dengan 60 unit.\n",
        "#fungsi aktivasi relu\n",
        "#nilai prediksi tunggal yaitu 1\n",
        "#menggunakan model sequential\n",
        "model = tf.keras.models.Sequential([\n",
        "    tf.keras.layers.Bidirectional(LSTM(60), input_shape=(n_steps, n_features)),\n",
        "    tf.keras.layers.Dense(60, activation='relu'),\n",
        "    tf.keras.layers.Dense(80, activation='relu'),\n",
        "    tf.keras.layers.Dense(1)\n",
        "])\n",
        "\n",
        "#menggunakan Learning Rate pada Optimizer\n",
        "optimizer = tf.keras.optimizers.Adam(lr=1.0e-03)\n",
        "model.compile(optimizer=optimizer,loss=tf.keras.losses.Huber(),metrics=['mae'])"
      ],
      "execution_count": 234,
      "outputs": []
    },
    {
      "cell_type": "code",
      "metadata": {
        "id": "DdUXNAsyh8Nc",
        "colab_type": "code",
        "colab": {}
      },
      "source": [
        "class myCallback(tf.keras.callbacks.Callback):\n",
        "  def on_epoch_end(self, epoch, logs={}):\n",
        "    if(logs.get('mae')<0.015 and logs.get('val_mae')<0.015):\n",
        "      print(\"\\nTraining sudah mencapai MAE < 10% skala data !!\")\n",
        "      self.model.stop_training = True\n",
        "\n",
        "callbacks = myCallback()\n",
        "reduce_lr = tf.keras.callbacks.ReduceLROnPlateau(monitor='val_loss', factor=0.2,\n",
        "            patience=5, min_lr=1.0e-04)"
      ],
      "execution_count": 235,
      "outputs": []
    },
    {
      "cell_type": "code",
      "metadata": {
        "id": "tv5cQS1uiBIA",
        "colab_type": "code",
        "colab": {
          "base_uri": "https://localhost:8080/",
          "height": 1000
        },
        "outputId": "202390e2-073e-4ee0-9d2d-d314efd0d555"
      },
      "source": [
        "#melatih model\n",
        "history = model.fit(train_X, train_Y, \n",
        "                    epochs=100, batch_size=128, \n",
        "                    validation_data=(val_X, val_Y), \n",
        "                    verbose=2, callbacks=[callbacks,reduce_lr])"
      ],
      "execution_count": 237,
      "outputs": [
        {
          "output_type": "stream",
          "text": [
            "Epoch 1/100\n",
            "56/56 - 2s - loss: 0.0064 - mae: 0.0606 - val_loss: 3.7067e-04 - val_mae: 0.0206\n",
            "Epoch 2/100\n",
            "56/56 - 1s - loss: 6.8931e-05 - mae: 0.0075 - val_loss: 3.5528e-04 - val_mae: 0.0201\n",
            "Epoch 3/100\n",
            "56/56 - 1s - loss: 5.8228e-05 - mae: 0.0064 - val_loss: 3.5311e-04 - val_mae: 0.0202\n",
            "Epoch 4/100\n",
            "56/56 - 1s - loss: 5.7979e-05 - mae: 0.0064 - val_loss: 3.5131e-04 - val_mae: 0.0200\n",
            "Epoch 5/100\n",
            "56/56 - 1s - loss: 6.0312e-05 - mae: 0.0066 - val_loss: 3.4907e-04 - val_mae: 0.0202\n",
            "Epoch 6/100\n",
            "56/56 - 1s - loss: 5.7099e-05 - mae: 0.0064 - val_loss: 3.4003e-04 - val_mae: 0.0197\n",
            "Epoch 7/100\n",
            "56/56 - 1s - loss: 5.4581e-05 - mae: 0.0061 - val_loss: 3.4242e-04 - val_mae: 0.0200\n",
            "Epoch 8/100\n",
            "56/56 - 1s - loss: 5.4486e-05 - mae: 0.0061 - val_loss: 3.3555e-04 - val_mae: 0.0197\n",
            "Epoch 9/100\n",
            "56/56 - 1s - loss: 5.4556e-05 - mae: 0.0061 - val_loss: 3.3669e-04 - val_mae: 0.0196\n",
            "Epoch 10/100\n",
            "56/56 - 1s - loss: 5.4093e-05 - mae: 0.0061 - val_loss: 3.3381e-04 - val_mae: 0.0195\n",
            "Epoch 11/100\n",
            "56/56 - 1s - loss: 5.4308e-05 - mae: 0.0061 - val_loss: 3.3648e-04 - val_mae: 0.0196\n",
            "Epoch 12/100\n",
            "56/56 - 1s - loss: 5.3534e-05 - mae: 0.0060 - val_loss: 3.3507e-04 - val_mae: 0.0198\n",
            "Epoch 13/100\n",
            "56/56 - 1s - loss: 5.3327e-05 - mae: 0.0061 - val_loss: 3.5138e-04 - val_mae: 0.0205\n",
            "Epoch 14/100\n",
            "56/56 - 1s - loss: 5.3640e-05 - mae: 0.0061 - val_loss: 3.3470e-04 - val_mae: 0.0198\n",
            "Epoch 15/100\n",
            "56/56 - 1s - loss: 5.3125e-05 - mae: 0.0060 - val_loss: 3.2701e-04 - val_mae: 0.0193\n",
            "Epoch 16/100\n",
            "56/56 - 1s - loss: 5.2968e-05 - mae: 0.0060 - val_loss: 3.2607e-04 - val_mae: 0.0193\n",
            "Epoch 17/100\n",
            "56/56 - 1s - loss: 5.2913e-05 - mae: 0.0060 - val_loss: 3.2504e-04 - val_mae: 0.0193\n",
            "Epoch 18/100\n",
            "56/56 - 1s - loss: 5.2803e-05 - mae: 0.0060 - val_loss: 3.2738e-04 - val_mae: 0.0195\n",
            "Epoch 19/100\n",
            "56/56 - 1s - loss: 5.2990e-05 - mae: 0.0060 - val_loss: 3.2503e-04 - val_mae: 0.0194\n",
            "Epoch 20/100\n",
            "56/56 - 1s - loss: 5.2821e-05 - mae: 0.0060 - val_loss: 3.2195e-04 - val_mae: 0.0192\n",
            "Epoch 21/100\n",
            "56/56 - 1s - loss: 5.2544e-05 - mae: 0.0060 - val_loss: 3.2156e-04 - val_mae: 0.0192\n",
            "Epoch 22/100\n",
            "56/56 - 1s - loss: 5.2386e-05 - mae: 0.0060 - val_loss: 3.2140e-04 - val_mae: 0.0192\n",
            "Epoch 23/100\n",
            "56/56 - 1s - loss: 5.3475e-05 - mae: 0.0061 - val_loss: 3.2023e-04 - val_mae: 0.0192\n",
            "Epoch 24/100\n",
            "56/56 - 1s - loss: 5.1669e-05 - mae: 0.0059 - val_loss: 3.1719e-04 - val_mae: 0.0191\n",
            "Epoch 25/100\n",
            "56/56 - 1s - loss: 5.1797e-05 - mae: 0.0060 - val_loss: 3.1720e-04 - val_mae: 0.0191\n",
            "Epoch 26/100\n",
            "56/56 - 1s - loss: 5.1782e-05 - mae: 0.0060 - val_loss: 3.1511e-04 - val_mae: 0.0190\n",
            "Epoch 27/100\n",
            "56/56 - 1s - loss: 5.1136e-05 - mae: 0.0059 - val_loss: 3.1333e-04 - val_mae: 0.0189\n",
            "Epoch 28/100\n",
            "56/56 - 1s - loss: 5.1830e-05 - mae: 0.0060 - val_loss: 3.1516e-04 - val_mae: 0.0191\n",
            "Epoch 29/100\n",
            "56/56 - 1s - loss: 5.1322e-05 - mae: 0.0060 - val_loss: 3.1795e-04 - val_mae: 0.0193\n",
            "Epoch 30/100\n",
            "56/56 - 1s - loss: 5.1101e-05 - mae: 0.0059 - val_loss: 3.1032e-04 - val_mae: 0.0189\n",
            "Epoch 31/100\n",
            "56/56 - 1s - loss: 5.0690e-05 - mae: 0.0059 - val_loss: 3.0803e-04 - val_mae: 0.0188\n",
            "Epoch 32/100\n",
            "56/56 - 1s - loss: 5.0643e-05 - mae: 0.0059 - val_loss: 3.0909e-04 - val_mae: 0.0189\n",
            "Epoch 33/100\n",
            "56/56 - 1s - loss: 5.0098e-05 - mae: 0.0059 - val_loss: 3.0954e-04 - val_mae: 0.0190\n",
            "Epoch 34/100\n",
            "56/56 - 1s - loss: 4.9717e-05 - mae: 0.0058 - val_loss: 3.0355e-04 - val_mae: 0.0186\n",
            "Epoch 35/100\n",
            "56/56 - 1s - loss: 4.9766e-05 - mae: 0.0058 - val_loss: 3.0266e-04 - val_mae: 0.0187\n",
            "Epoch 36/100\n",
            "56/56 - 1s - loss: 4.9471e-05 - mae: 0.0058 - val_loss: 3.0043e-04 - val_mae: 0.0186\n",
            "Epoch 37/100\n",
            "56/56 - 1s - loss: 4.9745e-05 - mae: 0.0059 - val_loss: 2.9951e-04 - val_mae: 0.0186\n",
            "Epoch 38/100\n",
            "56/56 - 1s - loss: 4.8891e-05 - mae: 0.0058 - val_loss: 2.9868e-04 - val_mae: 0.0186\n",
            "Epoch 39/100\n",
            "56/56 - 1s - loss: 4.9293e-05 - mae: 0.0058 - val_loss: 2.9667e-04 - val_mae: 0.0185\n",
            "Epoch 40/100\n",
            "56/56 - 1s - loss: 4.8889e-05 - mae: 0.0058 - val_loss: 2.9722e-04 - val_mae: 0.0186\n",
            "Epoch 41/100\n",
            "56/56 - 1s - loss: 4.8788e-05 - mae: 0.0058 - val_loss: 2.9449e-04 - val_mae: 0.0185\n",
            "Epoch 42/100\n",
            "56/56 - 1s - loss: 4.7998e-05 - mae: 0.0057 - val_loss: 2.9771e-04 - val_mae: 0.0187\n",
            "Epoch 43/100\n",
            "56/56 - 1s - loss: 4.8120e-05 - mae: 0.0057 - val_loss: 3.0069e-04 - val_mae: 0.0189\n",
            "Epoch 44/100\n",
            "56/56 - 1s - loss: 4.8227e-05 - mae: 0.0058 - val_loss: 2.9331e-04 - val_mae: 0.0185\n",
            "Epoch 45/100\n",
            "56/56 - 1s - loss: 4.8241e-05 - mae: 0.0058 - val_loss: 2.9154e-04 - val_mae: 0.0185\n",
            "Epoch 46/100\n",
            "56/56 - 1s - loss: 4.6873e-05 - mae: 0.0057 - val_loss: 2.8560e-04 - val_mae: 0.0182\n",
            "Epoch 47/100\n",
            "56/56 - 1s - loss: 4.6445e-05 - mae: 0.0057 - val_loss: 2.8919e-04 - val_mae: 0.0184\n",
            "Epoch 48/100\n",
            "56/56 - 1s - loss: 4.6356e-05 - mae: 0.0057 - val_loss: 2.8398e-04 - val_mae: 0.0182\n",
            "Epoch 49/100\n",
            "56/56 - 1s - loss: 4.6370e-05 - mae: 0.0056 - val_loss: 2.8591e-04 - val_mae: 0.0183\n",
            "Epoch 50/100\n",
            "56/56 - 1s - loss: 4.5745e-05 - mae: 0.0056 - val_loss: 2.7481e-04 - val_mae: 0.0178\n",
            "Epoch 51/100\n",
            "56/56 - 1s - loss: 4.5457e-05 - mae: 0.0057 - val_loss: 2.7234e-04 - val_mae: 0.0177\n",
            "Epoch 52/100\n",
            "56/56 - 1s - loss: 4.6820e-05 - mae: 0.0058 - val_loss: 2.8177e-04 - val_mae: 0.0182\n",
            "Epoch 53/100\n",
            "56/56 - 1s - loss: 4.5918e-05 - mae: 0.0057 - val_loss: 2.6897e-04 - val_mae: 0.0175\n",
            "Epoch 54/100\n",
            "56/56 - 1s - loss: 4.4913e-05 - mae: 0.0056 - val_loss: 2.6675e-04 - val_mae: 0.0176\n",
            "Epoch 55/100\n",
            "56/56 - 1s - loss: 4.4912e-05 - mae: 0.0056 - val_loss: 2.9193e-04 - val_mae: 0.0188\n",
            "Epoch 56/100\n",
            "56/56 - 1s - loss: 4.4473e-05 - mae: 0.0055 - val_loss: 2.6432e-04 - val_mae: 0.0174\n",
            "Epoch 57/100\n",
            "56/56 - 1s - loss: 4.3724e-05 - mae: 0.0055 - val_loss: 2.6172e-04 - val_mae: 0.0173\n",
            "Epoch 58/100\n",
            "56/56 - 1s - loss: 4.4462e-05 - mae: 0.0056 - val_loss: 2.5706e-04 - val_mae: 0.0172\n",
            "Epoch 59/100\n",
            "56/56 - 1s - loss: 4.2581e-05 - mae: 0.0054 - val_loss: 2.5457e-04 - val_mae: 0.0171\n",
            "Epoch 60/100\n",
            "56/56 - 1s - loss: 4.2743e-05 - mae: 0.0054 - val_loss: 2.5804e-04 - val_mae: 0.0174\n",
            "Epoch 61/100\n",
            "56/56 - 1s - loss: 4.2696e-05 - mae: 0.0054 - val_loss: 2.5707e-04 - val_mae: 0.0174\n",
            "Epoch 62/100\n",
            "56/56 - 1s - loss: 4.1778e-05 - mae: 0.0054 - val_loss: 2.6681e-04 - val_mae: 0.0179\n",
            "Epoch 63/100\n",
            "56/56 - 1s - loss: 4.1224e-05 - mae: 0.0054 - val_loss: 2.6122e-04 - val_mae: 0.0173\n",
            "Epoch 64/100\n",
            "56/56 - 1s - loss: 4.2362e-05 - mae: 0.0055 - val_loss: 2.4831e-04 - val_mae: 0.0171\n",
            "Epoch 65/100\n",
            "56/56 - 1s - loss: 4.0977e-05 - mae: 0.0053 - val_loss: 2.4403e-04 - val_mae: 0.0169\n",
            "Epoch 66/100\n",
            "56/56 - 1s - loss: 4.0026e-05 - mae: 0.0052 - val_loss: 2.7938e-04 - val_mae: 0.0186\n",
            "Epoch 67/100\n",
            "56/56 - 1s - loss: 4.0050e-05 - mae: 0.0053 - val_loss: 2.4217e-04 - val_mae: 0.0169\n",
            "Epoch 68/100\n",
            "56/56 - 1s - loss: 3.9359e-05 - mae: 0.0052 - val_loss: 2.3717e-04 - val_mae: 0.0167\n",
            "Epoch 69/100\n",
            "56/56 - 1s - loss: 3.9393e-05 - mae: 0.0052 - val_loss: 2.3989e-04 - val_mae: 0.0166\n",
            "Epoch 70/100\n",
            "56/56 - 1s - loss: 3.8536e-05 - mae: 0.0051 - val_loss: 2.4959e-04 - val_mae: 0.0174\n",
            "Epoch 71/100\n",
            "56/56 - 1s - loss: 3.8570e-05 - mae: 0.0052 - val_loss: 2.3310e-04 - val_mae: 0.0163\n",
            "Epoch 72/100\n",
            "56/56 - 1s - loss: 3.8109e-05 - mae: 0.0052 - val_loss: 2.2294e-04 - val_mae: 0.0160\n",
            "Epoch 73/100\n",
            "56/56 - 1s - loss: 3.7328e-05 - mae: 0.0051 - val_loss: 2.2055e-04 - val_mae: 0.0160\n",
            "Epoch 74/100\n",
            "56/56 - 1s - loss: 3.7149e-05 - mae: 0.0051 - val_loss: 2.2122e-04 - val_mae: 0.0161\n",
            "Epoch 75/100\n",
            "56/56 - 1s - loss: 3.7741e-05 - mae: 0.0052 - val_loss: 2.1329e-04 - val_mae: 0.0157\n",
            "Epoch 76/100\n",
            "56/56 - 1s - loss: 3.6724e-05 - mae: 0.0051 - val_loss: 2.2828e-04 - val_mae: 0.0166\n",
            "Epoch 77/100\n",
            "56/56 - 1s - loss: 3.5717e-05 - mae: 0.0050 - val_loss: 2.1874e-04 - val_mae: 0.0158\n",
            "Epoch 78/100\n",
            "56/56 - 1s - loss: 3.6217e-05 - mae: 0.0051 - val_loss: 2.2097e-04 - val_mae: 0.0163\n",
            "Epoch 79/100\n",
            "56/56 - 1s - loss: 3.6696e-05 - mae: 0.0051 - val_loss: 2.3377e-04 - val_mae: 0.0170\n",
            "Epoch 80/100\n",
            "56/56 - 1s - loss: 3.5957e-05 - mae: 0.0051 - val_loss: 2.1338e-04 - val_mae: 0.0160\n",
            "Epoch 81/100\n",
            "56/56 - 1s - loss: 3.5434e-05 - mae: 0.0051 - val_loss: 3.2028e-04 - val_mae: 0.0207\n",
            "Epoch 82/100\n",
            "56/56 - 1s - loss: 3.6150e-05 - mae: 0.0051 - val_loss: 2.0504e-04 - val_mae: 0.0156\n",
            "Epoch 83/100\n",
            "56/56 - 1s - loss: 3.3371e-05 - mae: 0.0048 - val_loss: 2.1532e-04 - val_mae: 0.0162\n",
            "Epoch 84/100\n",
            "56/56 - 1s - loss: 3.5008e-05 - mae: 0.0051 - val_loss: 1.9627e-04 - val_mae: 0.0152\n",
            "Epoch 85/100\n",
            "56/56 - 1s - loss: 3.3720e-05 - mae: 0.0049 - val_loss: 2.1528e-04 - val_mae: 0.0163\n",
            "Epoch 86/100\n",
            "56/56 - 1s - loss: 3.3339e-05 - mae: 0.0048 - val_loss: 1.9265e-04 - val_mae: 0.0151\n",
            "Epoch 87/100\n",
            "56/56 - 1s - loss: 3.3176e-05 - mae: 0.0048 - val_loss: 2.0504e-04 - val_mae: 0.0158\n",
            "Epoch 88/100\n",
            "56/56 - 1s - loss: 3.2230e-05 - mae: 0.0047 - val_loss: 2.1088e-04 - val_mae: 0.0161\n",
            "Epoch 89/100\n",
            "56/56 - 1s - loss: 3.3738e-05 - mae: 0.0049 - val_loss: 2.0434e-04 - val_mae: 0.0158\n",
            "Epoch 90/100\n",
            "\n",
            "Training sudah mencapai MAE < 10% skala data !!\n",
            "56/56 - 1s - loss: 3.2243e-05 - mae: 0.0048 - val_loss: 1.7776e-04 - val_mae: 0.0143\n"
          ],
          "name": "stdout"
        }
      ]
    },
    {
      "cell_type": "code",
      "metadata": {
        "id": "TBleZYfiiJpj",
        "colab_type": "code",
        "colab": {
          "base_uri": "https://localhost:8080/",
          "height": 312
        },
        "outputId": "03c30bf9-2ca2-4b4f-d1ca-a78565909c9f"
      },
      "source": [
        "#plot loss dan akurasi pada saat training dan validation\n",
        "plt.plot(history.history['loss'])\n",
        "plt.plot(history.history['val_loss'])\n",
        "plt.title('Training and Validation loss')\n",
        "plt.xlabel('Epoch')\n",
        "plt.ylabel('Loss')\n",
        "plt.legend(['Training', 'Validation'])\n",
        "plt.show"
      ],
      "execution_count": 238,
      "outputs": [
        {
          "output_type": "execute_result",
          "data": {
            "text/plain": [
              "<function matplotlib.pyplot.show>"
            ]
          },
          "metadata": {
            "tags": []
          },
          "execution_count": 238
        },
        {
          "output_type": "display_data",
          "data": {
            "image/png": "[encoded data removed]",
            "text/plain": [
              "<Figure size 432x288 with 1 Axes>"
            ]
          },
          "metadata": {
            "tags": [],
            "needs_background": "light"
          }
        }
      ]
    },
    {
      "cell_type": "code",
      "metadata": {
        "id": "jXcSNIOQiOTB",
        "colab_type": "code",
        "colab": {
          "base_uri": "https://localhost:8080/",
          "height": 336
        },
        "outputId": "ff2b938b-976f-4991-82b2-6db7a1eceb7b"
      },
      "source": [
        "#memprediksi model text_X\n",
        "y_hat = model.predict(test_X)\n",
        "plt.figure(figsize=(10,5))\n",
        "plt.plot(test_Y, label='true')\n",
        "plt.plot(y_hat, label='predict')\n",
        "plt.title('Test Prediction')\n",
        "plt.legend()\n",
        "plt.show()"
      ],
      "execution_count": 239,
      "outputs": [
        {
          "output_type": "display_data",
          "data": {
            "image/png": "[encoded data removed]",
            "text/plain": [
              "<Figure size 720x360 with 1 Axes>"
            ]
          },
          "metadata": {
            "tags": [],
            "needs_background": "light"
          }
        }
      ]
    },
    {
      "cell_type": "code",
      "metadata": {
        "id": "QO9FW0mXiWcQ",
        "colab_type": "code",
        "colab": {}
      },
      "source": [
        "#Balikkan skala nilai prediksi ke nilai semula\n",
        "y_hat_inverse = scaler.inverse_transform(y_hat.reshape(-1, 1))\n",
        "test_Y_inverse = scaler.inverse_transform(test_Y.reshape(-1, 1))"
      ],
      "execution_count": 240,
      "outputs": []
    },
    {
      "cell_type": "code",
      "metadata": {
        "id": "FLHd_-GXiZod",
        "colab_type": "code",
        "colab": {
          "base_uri": "https://localhost:8080/",
          "height": 34
        },
        "outputId": "4c18bd59-666b-4fc0-cca1-ca03721a6146"
      },
      "source": [
        "#Menghitung skala data\n",
        "min_value = df.values.min()\n",
        "max_value = df.values.max()\n",
        "data_scale = max_value - min_value\n",
        "ramalan = y_hat_inverse\n",
        "aktual = test_Y_inverse\n",
        "errors = ramalan - aktual\n",
        "mae = np.abs(errors).mean()\n",
        "print(f'MAE = {mae:.2f} < 10% skala data = {(0.1 * data_scale):.2f}')"
      ],
      "execution_count": 246,
      "outputs": [
        {
          "output_type": "stream",
          "text": [
            "MAE = 0.40 < 10% skala data = 3.46\n"
          ],
          "name": "stdout"
        }
      ]
    }
  ]
}